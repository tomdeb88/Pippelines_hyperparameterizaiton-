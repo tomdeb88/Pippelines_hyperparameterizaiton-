{
 "cells": [
  {
   "cell_type": "code",
   "execution_count": 845,
   "id": "5347c0ab",
   "metadata": {},
   "outputs": [],
   "source": [
    "import pandas as pd\n",
    "import numpy as np\n",
    "from sklearn.model_selection import train_test_split\n",
    "from sklearn.impute import SimpleImputer\n",
    "from sklearn.preprocessing import StandardScaler\n",
    "from sklearn.model_selection import GridSearchCV\n",
    "import warnings\n",
    "warnings.filterwarnings('ignore')\n",
    "from sklearn.pipeline import Pipeline\n",
    "from sklearn.linear_model import LogisticRegression\n",
    "from sklearn.metrics import classification_report, confusion_matrix, f1_score\n",
    "import seaborn as sns\n",
    "import matplotlib.pyplot as plt"
   ]
  },
  {
   "cell_type": "code",
   "execution_count": 846,
   "id": "99df2e75",
   "metadata": {},
   "outputs": [],
   "source": [
    "df= pd.read_csv('penguins.csv')"
   ]
  },
  {
   "cell_type": "code",
   "execution_count": 847,
   "id": "8c0940af",
   "metadata": {},
   "outputs": [
    {
     "data": {
      "text/html": [
       "<div>\n",
       "<style scoped>\n",
       "    .dataframe tbody tr th:only-of-type {\n",
       "        vertical-align: middle;\n",
       "    }\n",
       "\n",
       "    .dataframe tbody tr th {\n",
       "        vertical-align: top;\n",
       "    }\n",
       "\n",
       "    .dataframe thead th {\n",
       "        text-align: right;\n",
       "    }\n",
       "</style>\n",
       "<table border=\"1\" class=\"dataframe\">\n",
       "  <thead>\n",
       "    <tr style=\"text-align: right;\">\n",
       "      <th></th>\n",
       "      <th>CulmenLength</th>\n",
       "      <th>CulmenDepth</th>\n",
       "      <th>FlipperLength</th>\n",
       "      <th>BodyMass</th>\n",
       "      <th>Species</th>\n",
       "    </tr>\n",
       "  </thead>\n",
       "  <tbody>\n",
       "    <tr>\n",
       "      <th>0</th>\n",
       "      <td>39.1</td>\n",
       "      <td>18.7</td>\n",
       "      <td>181.0</td>\n",
       "      <td>3750.0</td>\n",
       "      <td>0</td>\n",
       "    </tr>\n",
       "    <tr>\n",
       "      <th>1</th>\n",
       "      <td>39.5</td>\n",
       "      <td>17.4</td>\n",
       "      <td>186.0</td>\n",
       "      <td>3800.0</td>\n",
       "      <td>0</td>\n",
       "    </tr>\n",
       "    <tr>\n",
       "      <th>2</th>\n",
       "      <td>40.3</td>\n",
       "      <td>18.0</td>\n",
       "      <td>195.0</td>\n",
       "      <td>3250.0</td>\n",
       "      <td>0</td>\n",
       "    </tr>\n",
       "    <tr>\n",
       "      <th>3</th>\n",
       "      <td>NaN</td>\n",
       "      <td>NaN</td>\n",
       "      <td>NaN</td>\n",
       "      <td>NaN</td>\n",
       "      <td>0</td>\n",
       "    </tr>\n",
       "    <tr>\n",
       "      <th>4</th>\n",
       "      <td>36.7</td>\n",
       "      <td>19.3</td>\n",
       "      <td>193.0</td>\n",
       "      <td>3450.0</td>\n",
       "      <td>0</td>\n",
       "    </tr>\n",
       "  </tbody>\n",
       "</table>\n",
       "</div>"
      ],
      "text/plain": [
       "   CulmenLength  CulmenDepth  FlipperLength  BodyMass  Species\n",
       "0          39.1         18.7          181.0    3750.0        0\n",
       "1          39.5         17.4          186.0    3800.0        0\n",
       "2          40.3         18.0          195.0    3250.0        0\n",
       "3           NaN          NaN            NaN       NaN        0\n",
       "4          36.7         19.3          193.0    3450.0        0"
      ]
     },
     "execution_count": 847,
     "metadata": {},
     "output_type": "execute_result"
    }
   ],
   "source": [
    "df.head()"
   ]
  },
  {
   "cell_type": "code",
   "execution_count": 848,
   "id": "c2667261",
   "metadata": {},
   "outputs": [
    {
     "data": {
      "text/plain": [
       "CulmenLength     2\n",
       "CulmenDepth      2\n",
       "FlipperLength    2\n",
       "BodyMass         2\n",
       "Species          0\n",
       "dtype: int64"
      ]
     },
     "execution_count": 848,
     "metadata": {},
     "output_type": "execute_result"
    }
   ],
   "source": [
    "df.isnull().sum()"
   ]
  },
  {
   "cell_type": "code",
   "execution_count": 849,
   "id": "c13ac966",
   "metadata": {},
   "outputs": [],
   "source": [
    "X=df.drop(['Species'],axis=1).copy()\n",
    "y=df['Species'].copy()"
   ]
  },
  {
   "cell_type": "code",
   "execution_count": 850,
   "id": "681d7c3a",
   "metadata": {},
   "outputs": [],
   "source": [
    "X_train,X_test,y_train,y_test=train_test_split(X,y,test_size=0.25,stratify=y)"
   ]
  },
  {
   "cell_type": "code",
   "execution_count": 851,
   "id": "2e2572d2",
   "metadata": {},
   "outputs": [],
   "source": [
    "used_features=['CulmenLength', 'CulmenDepth', 'FlipperLength', 'BodyMass']"
   ]
  },
  {
   "cell_type": "code",
   "execution_count": 852,
   "id": "54fb2962",
   "metadata": {},
   "outputs": [
    {
     "data": {
      "text/plain": [
       "['CulmenLength', 'CulmenDepth', 'FlipperLength', 'BodyMass']"
      ]
     },
     "execution_count": 852,
     "metadata": {},
     "output_type": "execute_result"
    }
   ],
   "source": [
    "used_features"
   ]
  },
  {
   "cell_type": "code",
   "execution_count": 853,
   "id": "8a9e244a",
   "metadata": {},
   "outputs": [],
   "source": [
    "#metryki\n",
    "metrics_dataframe = pd.DataFrame(columns = ['Model', 'F1_score'])\n",
    "def show_stats(model_name,model_predictions):\n",
    "    cm=confusion_matrix(y_test,model_predictions)\n",
    "    ax=sns.heatmap(cm,annot=True,fmt='.0f')\n",
    "    ax.set_xlabel('Predicted')\n",
    "    ax.set_ylabel('Actual')\n",
    "    plt.show()\n",
    "    \n",
    "    print(model_name.upper(),'\\n\\n')\n",
    "    print(classification_report(y_test, model_predictions))\n",
    "    \n",
    "    global metrics_dataframe\n",
    "    f1_metric =f1_score(y_test,model_predictions,average='weighted')\n",
    "    metrics_dataframe=metrics_dataframe._append({'Model':model_name,'F1_score':f1_metric},ignore_index=True)\n",
    "    \n",
    "    display( metrics_dataframe.sort_values(by='F1_score',ascending=False))"
   ]
  },
  {
   "cell_type": "code",
   "execution_count": 854,
   "id": "6ae8b3ce",
   "metadata": {},
   "outputs": [],
   "source": [
    "num_prep=Pipeline(steps=[('imput_missing',SimpleImputer(strategy='mean')),\n",
    "                        ('standardization',StandardScaler())])"
   ]
  },
  {
   "cell_type": "code",
   "execution_count": null,
   "id": "6203a7b0",
   "metadata": {},
   "outputs": [],
   "source": []
  },
  {
   "cell_type": "code",
   "execution_count": 855,
   "id": "d2d81f02",
   "metadata": {},
   "outputs": [],
   "source": [
    "model_v1=Pipeline(steps=[('preprocessing',num_prep),('classifier',LogisticRegression(max_iter=1000))])"
   ]
  },
  {
   "cell_type": "code",
   "execution_count": 856,
   "id": "8fa1b25a",
   "metadata": {},
   "outputs": [
    {
     "data": {
      "text/html": [
       "<style>#sk-container-id-34 {color: black;}#sk-container-id-34 pre{padding: 0;}#sk-container-id-34 div.sk-toggleable {background-color: white;}#sk-container-id-34 label.sk-toggleable__label {cursor: pointer;display: block;width: 100%;margin-bottom: 0;padding: 0.3em;box-sizing: border-box;text-align: center;}#sk-container-id-34 label.sk-toggleable__label-arrow:before {content: \"▸\";float: left;margin-right: 0.25em;color: #696969;}#sk-container-id-34 label.sk-toggleable__label-arrow:hover:before {color: black;}#sk-container-id-34 div.sk-estimator:hover label.sk-toggleable__label-arrow:before {color: black;}#sk-container-id-34 div.sk-toggleable__content {max-height: 0;max-width: 0;overflow: hidden;text-align: left;background-color: #f0f8ff;}#sk-container-id-34 div.sk-toggleable__content pre {margin: 0.2em;color: black;border-radius: 0.25em;background-color: #f0f8ff;}#sk-container-id-34 input.sk-toggleable__control:checked~div.sk-toggleable__content {max-height: 200px;max-width: 100%;overflow: auto;}#sk-container-id-34 input.sk-toggleable__control:checked~label.sk-toggleable__label-arrow:before {content: \"▾\";}#sk-container-id-34 div.sk-estimator input.sk-toggleable__control:checked~label.sk-toggleable__label {background-color: #d4ebff;}#sk-container-id-34 div.sk-label input.sk-toggleable__control:checked~label.sk-toggleable__label {background-color: #d4ebff;}#sk-container-id-34 input.sk-hidden--visually {border: 0;clip: rect(1px 1px 1px 1px);clip: rect(1px, 1px, 1px, 1px);height: 1px;margin: -1px;overflow: hidden;padding: 0;position: absolute;width: 1px;}#sk-container-id-34 div.sk-estimator {font-family: monospace;background-color: #f0f8ff;border: 1px dotted black;border-radius: 0.25em;box-sizing: border-box;margin-bottom: 0.5em;}#sk-container-id-34 div.sk-estimator:hover {background-color: #d4ebff;}#sk-container-id-34 div.sk-parallel-item::after {content: \"\";width: 100%;border-bottom: 1px solid gray;flex-grow: 1;}#sk-container-id-34 div.sk-label:hover label.sk-toggleable__label {background-color: #d4ebff;}#sk-container-id-34 div.sk-serial::before {content: \"\";position: absolute;border-left: 1px solid gray;box-sizing: border-box;top: 0;bottom: 0;left: 50%;z-index: 0;}#sk-container-id-34 div.sk-serial {display: flex;flex-direction: column;align-items: center;background-color: white;padding-right: 0.2em;padding-left: 0.2em;position: relative;}#sk-container-id-34 div.sk-item {position: relative;z-index: 1;}#sk-container-id-34 div.sk-parallel {display: flex;align-items: stretch;justify-content: center;background-color: white;position: relative;}#sk-container-id-34 div.sk-item::before, #sk-container-id-34 div.sk-parallel-item::before {content: \"\";position: absolute;border-left: 1px solid gray;box-sizing: border-box;top: 0;bottom: 0;left: 50%;z-index: -1;}#sk-container-id-34 div.sk-parallel-item {display: flex;flex-direction: column;z-index: 1;position: relative;background-color: white;}#sk-container-id-34 div.sk-parallel-item:first-child::after {align-self: flex-end;width: 50%;}#sk-container-id-34 div.sk-parallel-item:last-child::after {align-self: flex-start;width: 50%;}#sk-container-id-34 div.sk-parallel-item:only-child::after {width: 0;}#sk-container-id-34 div.sk-dashed-wrapped {border: 1px dashed gray;margin: 0 0.4em 0.5em 0.4em;box-sizing: border-box;padding-bottom: 0.4em;background-color: white;}#sk-container-id-34 div.sk-label label {font-family: monospace;font-weight: bold;display: inline-block;line-height: 1.2em;}#sk-container-id-34 div.sk-label-container {text-align: center;}#sk-container-id-34 div.sk-container {/* jupyter's `normalize.less` sets `[hidden] { display: none; }` but bootstrap.min.css set `[hidden] { display: none !important; }` so we also need the `!important` here to be able to override the default hidden behavior on the sphinx rendered scikit-learn.org. See: https://github.com/scikit-learn/scikit-learn/issues/21755 */display: inline-block !important;position: relative;}#sk-container-id-34 div.sk-text-repr-fallback {display: none;}</style><div id=\"sk-container-id-34\" class=\"sk-top-container\"><div class=\"sk-text-repr-fallback\"><pre>Pipeline(steps=[(&#x27;preprocessing&#x27;,\n",
       "                 Pipeline(steps=[(&#x27;imput_missing&#x27;, SimpleImputer()),\n",
       "                                 (&#x27;standardization&#x27;, StandardScaler())])),\n",
       "                (&#x27;classifier&#x27;, LogisticRegression(max_iter=1000))])</pre><b>In a Jupyter environment, please rerun this cell to show the HTML representation or trust the notebook. <br />On GitHub, the HTML representation is unable to render, please try loading this page with nbviewer.org.</b></div><div class=\"sk-container\" hidden><div class=\"sk-item sk-dashed-wrapped\"><div class=\"sk-label-container\"><div class=\"sk-label sk-toggleable\"><input class=\"sk-toggleable__control sk-hidden--visually\" id=\"sk-estimator-id-162\" type=\"checkbox\" ><label for=\"sk-estimator-id-162\" class=\"sk-toggleable__label sk-toggleable__label-arrow\">Pipeline</label><div class=\"sk-toggleable__content\"><pre>Pipeline(steps=[(&#x27;preprocessing&#x27;,\n",
       "                 Pipeline(steps=[(&#x27;imput_missing&#x27;, SimpleImputer()),\n",
       "                                 (&#x27;standardization&#x27;, StandardScaler())])),\n",
       "                (&#x27;classifier&#x27;, LogisticRegression(max_iter=1000))])</pre></div></div></div><div class=\"sk-serial\"><div class=\"sk-item\"><div class=\"sk-label-container\"><div class=\"sk-label sk-toggleable\"><input class=\"sk-toggleable__control sk-hidden--visually\" id=\"sk-estimator-id-163\" type=\"checkbox\" ><label for=\"sk-estimator-id-163\" class=\"sk-toggleable__label sk-toggleable__label-arrow\">preprocessing: Pipeline</label><div class=\"sk-toggleable__content\"><pre>Pipeline(steps=[(&#x27;imput_missing&#x27;, SimpleImputer()),\n",
       "                (&#x27;standardization&#x27;, StandardScaler())])</pre></div></div></div><div class=\"sk-serial\"><div class=\"sk-item\"><div class=\"sk-estimator sk-toggleable\"><input class=\"sk-toggleable__control sk-hidden--visually\" id=\"sk-estimator-id-164\" type=\"checkbox\" ><label for=\"sk-estimator-id-164\" class=\"sk-toggleable__label sk-toggleable__label-arrow\">SimpleImputer</label><div class=\"sk-toggleable__content\"><pre>SimpleImputer()</pre></div></div></div><div class=\"sk-item\"><div class=\"sk-estimator sk-toggleable\"><input class=\"sk-toggleable__control sk-hidden--visually\" id=\"sk-estimator-id-165\" type=\"checkbox\" ><label for=\"sk-estimator-id-165\" class=\"sk-toggleable__label sk-toggleable__label-arrow\">StandardScaler</label><div class=\"sk-toggleable__content\"><pre>StandardScaler()</pre></div></div></div></div></div><div class=\"sk-item\"><div class=\"sk-estimator sk-toggleable\"><input class=\"sk-toggleable__control sk-hidden--visually\" id=\"sk-estimator-id-166\" type=\"checkbox\" ><label for=\"sk-estimator-id-166\" class=\"sk-toggleable__label sk-toggleable__label-arrow\">LogisticRegression</label><div class=\"sk-toggleable__content\"><pre>LogisticRegression(max_iter=1000)</pre></div></div></div></div></div></div></div>"
      ],
      "text/plain": [
       "Pipeline(steps=[('preprocessing',\n",
       "                 Pipeline(steps=[('imput_missing', SimpleImputer()),\n",
       "                                 ('standardization', StandardScaler())])),\n",
       "                ('classifier', LogisticRegression(max_iter=1000))])"
      ]
     },
     "execution_count": 856,
     "metadata": {},
     "output_type": "execute_result"
    }
   ],
   "source": [
    "model_v1.fit(X_train,y_train)"
   ]
  },
  {
   "cell_type": "code",
   "execution_count": 857,
   "id": "31ca134e",
   "metadata": {},
   "outputs": [],
   "source": [
    "predictions_1=model_v1.predict(X_test)"
   ]
  },
  {
   "cell_type": "code",
   "execution_count": null,
   "id": "e0322d5a",
   "metadata": {},
   "outputs": [],
   "source": []
  },
  {
   "cell_type": "code",
   "execution_count": 858,
   "id": "5c1156fe",
   "metadata": {},
   "outputs": [
    {
     "data": {
      "image/png": "[encoded data removed]",
      "text/plain": [
       "<Figure size 640x480 with 2 Axes>"
      ]
     },
     "metadata": {},
     "output_type": "display_data"
    },
    {
     "name": "stdout",
     "output_type": "stream",
     "text": [
      "LOGISTIC REGRESSION WITH PIPELINE \n",
      "\n",
      "\n",
      "              precision    recall  f1-score   support\n",
      "\n",
      "           0       0.97      1.00      0.99        38\n",
      "           1       1.00      1.00      1.00        31\n",
      "           2       1.00      0.94      0.97        17\n",
      "\n",
      "    accuracy                           0.99        86\n",
      "   macro avg       0.99      0.98      0.99        86\n",
      "weighted avg       0.99      0.99      0.99        86\n",
      "\n"
     ]
    },
    {
     "data": {
      "text/html": [
       "<div>\n",
       "<style scoped>\n",
       "    .dataframe tbody tr th:only-of-type {\n",
       "        vertical-align: middle;\n",
       "    }\n",
       "\n",
       "    .dataframe tbody tr th {\n",
       "        vertical-align: top;\n",
       "    }\n",
       "\n",
       "    .dataframe thead th {\n",
       "        text-align: right;\n",
       "    }\n",
       "</style>\n",
       "<table border=\"1\" class=\"dataframe\">\n",
       "  <thead>\n",
       "    <tr style=\"text-align: right;\">\n",
       "      <th></th>\n",
       "      <th>Model</th>\n",
       "      <th>F1_score</th>\n",
       "    </tr>\n",
       "  </thead>\n",
       "  <tbody>\n",
       "    <tr>\n",
       "      <th>0</th>\n",
       "      <td>Logistic Regression with pipeline</td>\n",
       "      <td>0.988271</td>\n",
       "    </tr>\n",
       "  </tbody>\n",
       "</table>\n",
       "</div>"
      ],
      "text/plain": [
       "                               Model  F1_score\n",
       "0  Logistic Regression with pipeline  0.988271"
      ]
     },
     "metadata": {},
     "output_type": "display_data"
    }
   ],
   "source": [
    "show_stats('Logistic Regression with pipeline',predictions_1)"
   ]
  },
  {
   "cell_type": "code",
   "execution_count": null,
   "id": "cc855bbb",
   "metadata": {},
   "outputs": [],
   "source": []
  },
  {
   "cell_type": "code",
   "execution_count": 859,
   "id": "c5b2f434",
   "metadata": {},
   "outputs": [],
   "source": [
    "X_test_2=X_test.copy()"
   ]
  },
  {
   "cell_type": "code",
   "execution_count": 860,
   "id": "fd03408b",
   "metadata": {},
   "outputs": [],
   "source": [
    "columns=list(X_test_2.columns)"
   ]
  },
  {
   "cell_type": "code",
   "execution_count": 861,
   "id": "f981bccc",
   "metadata": {},
   "outputs": [],
   "source": [
    "X_test_2[columns]=X_test_2[columns].fillna(X_test_2[columns].mean())"
   ]
  },
  {
   "cell_type": "code",
   "execution_count": 862,
   "id": "7621db0f",
   "metadata": {},
   "outputs": [
    {
     "data": {
      "text/plain": [
       "CulmenLength     0\n",
       "CulmenDepth      0\n",
       "FlipperLength    0\n",
       "BodyMass         0\n",
       "dtype: int64"
      ]
     },
     "execution_count": 862,
     "metadata": {},
     "output_type": "execute_result"
    }
   ],
   "source": [
    "X_test_2.isnull().sum()"
   ]
  },
  {
   "cell_type": "code",
   "execution_count": 863,
   "id": "aee44a93",
   "metadata": {},
   "outputs": [],
   "source": [
    "X_test_2_scaled=StandardScaler().fit_transform(X_test_2)"
   ]
  },
  {
   "cell_type": "code",
   "execution_count": 864,
   "id": "ae5feb58",
   "metadata": {},
   "outputs": [],
   "source": [
    "# importowanie poprzedniego modelu i porównanie do aktualnego"
   ]
  },
  {
   "cell_type": "code",
   "execution_count": 865,
   "id": "52d767f6",
   "metadata": {},
   "outputs": [],
   "source": [
    "import joblib\n",
    "lr_no_pipeline=joblib.load('lr_no_pipeline.pkl') "
   ]
  },
  {
   "cell_type": "code",
   "execution_count": 866,
   "id": "d6f7ac5d",
   "metadata": {},
   "outputs": [
    {
     "data": {
      "text/plain": [
       "<bound method BaseEstimator.get_params of LogisticRegression(C=0.1, penalty='l1', solver='liblinear')>"
      ]
     },
     "execution_count": 866,
     "metadata": {},
     "output_type": "execute_result"
    }
   ],
   "source": [
    "lr_no_pipeline.get_params"
   ]
  },
  {
   "cell_type": "code",
   "execution_count": 867,
   "id": "3ec2a825",
   "metadata": {},
   "outputs": [],
   "source": [
    "predictions_2=lr_no_pipeline.predict(X_test_2_scaled)"
   ]
  },
  {
   "cell_type": "code",
   "execution_count": 868,
   "id": "0f0a1629",
   "metadata": {},
   "outputs": [
    {
     "data": {
      "image/png": "[encoded data removed]",
      "text/plain": [
       "<Figure size 640x480 with 2 Axes>"
      ]
     },
     "metadata": {},
     "output_type": "display_data"
    },
    {
     "name": "stdout",
     "output_type": "stream",
     "text": [
      "LOGISTIC REGRESSION WITHOUT PIPELINE \n",
      "\n",
      "\n",
      "              precision    recall  f1-score   support\n",
      "\n",
      "           0       0.95      1.00      0.97        38\n",
      "           1       1.00      1.00      1.00        31\n",
      "           2       1.00      0.88      0.94        17\n",
      "\n",
      "    accuracy                           0.98        86\n",
      "   macro avg       0.98      0.96      0.97        86\n",
      "weighted avg       0.98      0.98      0.98        86\n",
      "\n"
     ]
    },
    {
     "data": {
      "text/html": [
       "<div>\n",
       "<style scoped>\n",
       "    .dataframe tbody tr th:only-of-type {\n",
       "        vertical-align: middle;\n",
       "    }\n",
       "\n",
       "    .dataframe tbody tr th {\n",
       "        vertical-align: top;\n",
       "    }\n",
       "\n",
       "    .dataframe thead th {\n",
       "        text-align: right;\n",
       "    }\n",
       "</style>\n",
       "<table border=\"1\" class=\"dataframe\">\n",
       "  <thead>\n",
       "    <tr style=\"text-align: right;\">\n",
       "      <th></th>\n",
       "      <th>Model</th>\n",
       "      <th>F1_score</th>\n",
       "    </tr>\n",
       "  </thead>\n",
       "  <tbody>\n",
       "    <tr>\n",
       "      <th>0</th>\n",
       "      <td>Logistic Regression with pipeline</td>\n",
       "      <td>0.988271</td>\n",
       "    </tr>\n",
       "    <tr>\n",
       "      <th>1</th>\n",
       "      <td>Logistic Regression without pipeline</td>\n",
       "      <td>0.976316</td>\n",
       "    </tr>\n",
       "  </tbody>\n",
       "</table>\n",
       "</div>"
      ],
      "text/plain": [
       "                                  Model  F1_score\n",
       "0     Logistic Regression with pipeline  0.988271\n",
       "1  Logistic Regression without pipeline  0.976316"
      ]
     },
     "metadata": {},
     "output_type": "display_data"
    }
   ],
   "source": [
    "show_stats('Logistic Regression without pipeline',predictions_2)"
   ]
  },
  {
   "cell_type": "code",
   "execution_count": null,
   "id": "6b183dce",
   "metadata": {},
   "outputs": [],
   "source": []
  },
  {
   "cell_type": "code",
   "execution_count": 869,
   "id": "f85ed430",
   "metadata": {},
   "outputs": [],
   "source": [
    "# tunning hypers"
   ]
  },
  {
   "cell_type": "code",
   "execution_count": 870,
   "id": "be9bfb27",
   "metadata": {},
   "outputs": [
    {
     "data": {
      "text/plain": [
       "['memory',\n",
       " 'steps',\n",
       " 'verbose',\n",
       " 'preprocessing',\n",
       " 'classifier',\n",
       " 'preprocessing__memory',\n",
       " 'preprocessing__steps',\n",
       " 'preprocessing__verbose',\n",
       " 'preprocessing__imput_missing',\n",
       " 'preprocessing__standardization',\n",
       " 'preprocessing__imput_missing__add_indicator',\n",
       " 'preprocessing__imput_missing__copy',\n",
       " 'preprocessing__imput_missing__fill_value',\n",
       " 'preprocessing__imput_missing__keep_empty_features',\n",
       " 'preprocessing__imput_missing__missing_values',\n",
       " 'preprocessing__imput_missing__strategy',\n",
       " 'preprocessing__standardization__copy',\n",
       " 'preprocessing__standardization__with_mean',\n",
       " 'preprocessing__standardization__with_std',\n",
       " 'classifier__C',\n",
       " 'classifier__class_weight',\n",
       " 'classifier__dual',\n",
       " 'classifier__fit_intercept',\n",
       " 'classifier__intercept_scaling',\n",
       " 'classifier__l1_ratio',\n",
       " 'classifier__max_iter',\n",
       " 'classifier__multi_class',\n",
       " 'classifier__n_jobs',\n",
       " 'classifier__penalty',\n",
       " 'classifier__random_state',\n",
       " 'classifier__solver',\n",
       " 'classifier__tol',\n",
       " 'classifier__verbose',\n",
       " 'classifier__warm_start']"
      ]
     },
     "execution_count": 870,
     "metadata": {},
     "output_type": "execute_result"
    }
   ],
   "source": [
    "list(model_v1.get_params().keys())"
   ]
  },
  {
   "cell_type": "code",
   "execution_count": 871,
   "id": "5a07ae4c",
   "metadata": {},
   "outputs": [],
   "source": [
    "params={'preprocessing__imput_missing__strategy':['mean','median'],\n",
    "       'classifier__C':np.logspace(0.1,20,50),\n",
    "       'classifier__penalty':['l1', 'l2', 'elasticnet'],\n",
    "       }"
   ]
  },
  {
   "cell_type": "code",
   "execution_count": 872,
   "id": "c4c8427b",
   "metadata": {},
   "outputs": [],
   "source": [
    "grid=GridSearchCV(model_v1,params,scoring='f1_macro',cv=10,n_jobs=-1,)"
   ]
  },
  {
   "cell_type": "code",
   "execution_count": 873,
   "id": "298cf226",
   "metadata": {},
   "outputs": [
    {
     "name": "stdout",
     "output_type": "stream",
     "text": [
      "Best params: {'classifier__C': 53.02611335911987, 'classifier__penalty': 'l2', 'preprocessing__imput_missing__strategy': 'mean'}\n"
     ]
    }
   ],
   "source": [
    "grid.fit(X_train,y_train)\n",
    "print('Best params:', grid.best_params_)"
   ]
  },
  {
   "cell_type": "code",
   "execution_count": 874,
   "id": "9f5c8a27",
   "metadata": {},
   "outputs": [],
   "source": [
    "model_hyped=grid.best_estimator_"
   ]
  },
  {
   "cell_type": "code",
   "execution_count": 875,
   "id": "4f49d8eb",
   "metadata": {},
   "outputs": [],
   "source": [
    "predictions_3=model_hyped.predict(X_test)"
   ]
  },
  {
   "cell_type": "code",
   "execution_count": 876,
   "id": "bb1dc0cd",
   "metadata": {},
   "outputs": [
    {
     "data": {
      "image/png": "[encoded data removed]",
      "text/plain": [
       "<Figure size 640x480 with 2 Axes>"
      ]
     },
     "metadata": {},
     "output_type": "display_data"
    },
    {
     "name": "stdout",
     "output_type": "stream",
     "text": [
      "LOGISTIC REGRESSION TUNNED PARAMS \n",
      "\n",
      "\n",
      "              precision    recall  f1-score   support\n",
      "\n",
      "           0       0.97      1.00      0.99        38\n",
      "           1       1.00      1.00      1.00        31\n",
      "           2       1.00      0.94      0.97        17\n",
      "\n",
      "    accuracy                           0.99        86\n",
      "   macro avg       0.99      0.98      0.99        86\n",
      "weighted avg       0.99      0.99      0.99        86\n",
      "\n"
     ]
    },
    {
     "data": {
      "text/html": [
       "<div>\n",
       "<style scoped>\n",
       "    .dataframe tbody tr th:only-of-type {\n",
       "        vertical-align: middle;\n",
       "    }\n",
       "\n",
       "    .dataframe tbody tr th {\n",
       "        vertical-align: top;\n",
       "    }\n",
       "\n",
       "    .dataframe thead th {\n",
       "        text-align: right;\n",
       "    }\n",
       "</style>\n",
       "<table border=\"1\" class=\"dataframe\">\n",
       "  <thead>\n",
       "    <tr style=\"text-align: right;\">\n",
       "      <th></th>\n",
       "      <th>Model</th>\n",
       "      <th>F1_score</th>\n",
       "    </tr>\n",
       "  </thead>\n",
       "  <tbody>\n",
       "    <tr>\n",
       "      <th>0</th>\n",
       "      <td>Logistic Regression with pipeline</td>\n",
       "      <td>0.988271</td>\n",
       "    </tr>\n",
       "    <tr>\n",
       "      <th>2</th>\n",
       "      <td>Logistic Regression tunned params</td>\n",
       "      <td>0.988271</td>\n",
       "    </tr>\n",
       "    <tr>\n",
       "      <th>1</th>\n",
       "      <td>Logistic Regression without pipeline</td>\n",
       "      <td>0.976316</td>\n",
       "    </tr>\n",
       "  </tbody>\n",
       "</table>\n",
       "</div>"
      ],
      "text/plain": [
       "                                  Model  F1_score\n",
       "0     Logistic Regression with pipeline  0.988271\n",
       "2     Logistic Regression tunned params  0.988271\n",
       "1  Logistic Regression without pipeline  0.976316"
      ]
     },
     "metadata": {},
     "output_type": "display_data"
    }
   ],
   "source": [
    "show_stats('Logistic Regression tunned params',predictions_3)"
   ]
  },
  {
   "cell_type": "code",
   "execution_count": null,
   "id": "4e8c55cf",
   "metadata": {},
   "outputs": [],
   "source": []
  },
  {
   "cell_type": "code",
   "execution_count": null,
   "id": "3c857665",
   "metadata": {},
   "outputs": [],
   "source": []
  }
 ],
 "metadata": {
  "kernelspec": {
   "display_name": "Python 3 (ipykernel)",
   "language": "python",
   "name": "python3"
  },
  "language_info": {
   "codemirror_mode": {
    "name": "ipython",
    "version": 3
   },
   "file_extension": ".py",
   "mimetype": "text/x-python",
   "name": "python",
   "nbconvert_exporter": "python",
   "pygments_lexer": "ipython3",
   "version": "3.11.4"
  }
 },
 "nbformat": 4,
 "nbformat_minor": 5
}
